{
 "cells": [
  {
   "cell_type": "markdown",
   "id": "1eec7268-9cbe-403a-9362-0125f1564cce",
   "metadata": {},
   "source": [
    "**Q1. Create a Pandas Series that contains the following data: 4, 8, 15, 16, 23, and 42. Then, print the series.**"
   ]
  },
  {
   "cell_type": "code",
   "execution_count": 1,
   "id": "216a812e-2fc0-453b-83d6-d09546992ea8",
   "metadata": {},
   "outputs": [
    {
     "name": "stdout",
     "output_type": "stream",
     "text": [
      "0     4\n",
      "1     8\n",
      "2    15\n",
      "3    16\n",
      "4    23\n",
      "5    42\n",
      "dtype: int64\n"
     ]
    }
   ],
   "source": [
    "import pandas as pd\n",
    "\n",
    "lst = [4, 8, 15, 16, 23, 42]\n",
    "series = pd.Series(lst)\n",
    "print(series)"
   ]
  },
  {
   "cell_type": "markdown",
   "id": "eab5de47-d6f6-4b2a-8a2a-47a4ea14bf60",
   "metadata": {},
   "source": []
  },
  {
   "cell_type": "markdown",
   "id": "1dd33f02-539b-423d-b24a-e732f4e50b02",
   "metadata": {},
   "source": [
    "**Q2. Create a variable of list type containing 10 elements in it, and apply pandas.Series function on the\n",
    "variable print it.**"
   ]
  },
  {
   "cell_type": "code",
   "execution_count": 3,
   "id": "84e3844c-c98f-4c0f-b291-743a0f5b4964",
   "metadata": {},
   "outputs": [
    {
     "name": "stdout",
     "output_type": "stream",
     "text": [
      "0     1\n",
      "1     2\n",
      "2     3\n",
      "3     4\n",
      "4     5\n",
      "5     6\n",
      "6     7\n",
      "7     8\n",
      "8     9\n",
      "9    10\n",
      "dtype: int64\n"
     ]
    }
   ],
   "source": [
    "import pandas as pd\n",
    "\n",
    "my_lst = [1,2,3,4,5,6,7,8,9,10]\n",
    "s = pd.Series(my_lst)\n",
    "print(s)"
   ]
  },
  {
   "cell_type": "code",
   "execution_count": null,
   "id": "8b471146-1a4e-41a3-bd62-7dc69a4fc1ef",
   "metadata": {},
   "outputs": [],
   "source": []
  },
  {
   "cell_type": "markdown",
   "id": "2ab1d8df-89dd-42dc-9c4f-434596095fc8",
   "metadata": {},
   "source": [
    "**Q3. Create a Pandas DataFrame that contains the following data:**\n",
    "\n",
    "Name\n",
    "Alice\n",
    "Bob\n",
    "Claire\n",
    "\n",
    "Age\n",
    "25\n",
    "30\n",
    "27\n",
    "\n",
    "Gender\n",
    "Female\n",
    "Male\n",
    "Female\n",
    "\n",
    "Then, print the DataFrame."
   ]
  },
  {
   "cell_type": "code",
   "execution_count": 4,
   "id": "7269f8ad-4a62-4c14-b14a-019ebdd8d7d9",
   "metadata": {},
   "outputs": [
    {
     "name": "stdout",
     "output_type": "stream",
     "text": [
      "     Name  Age  Gender\n",
      "0   Alice   25  Female\n",
      "1     Bob   30    Male\n",
      "2  Claire   27  Female\n"
     ]
    }
   ],
   "source": [
    "import pandas as pd\n",
    "\n",
    "data = {'Name' : ['Alice','Bob','Claire'],\n",
    "        'Age' : [25,30,27],\n",
    "        'Gender' : ['Female','Male','Female']}\n",
    "\n",
    "df = pd.DataFrame(data)\n",
    "print(df)"
   ]
  },
  {
   "cell_type": "code",
   "execution_count": null,
   "id": "e4f0d2b0-1a6b-4cab-a206-844be3246ef9",
   "metadata": {},
   "outputs": [],
   "source": []
  },
  {
   "cell_type": "markdown",
   "id": "f7ef061e-c6c2-457b-b9c0-0591e49faca7",
   "metadata": {},
   "source": [
    "**Q4. What is ‘DataFrame’ in pandas and how is it different from pandas.series? Explain with an example.**"
   ]
  },
  {
   "cell_type": "markdown",
   "id": "6f578980-fe12-43d8-a57c-5cd5467830d1",
   "metadata": {},
   "source": [
    "It is a two-dimensional tabular data structure that consists of rows and columns. It is similar to a table in a relational database or a spreadsheet.\n",
    "\n",
    "On the other hand, a Series is a one-dimensional labeled array in Pandas. \n",
    "\n"
   ]
  },
  {
   "cell_type": "code",
   "execution_count": 5,
   "id": "601f048a-9d8d-4c40-83da-acda1a8259e0",
   "metadata": {},
   "outputs": [
    {
     "name": "stdout",
     "output_type": "stream",
     "text": [
      "DataFrame:\n",
      "     Name  Age  Gender\n",
      "0   Alice   25  Female\n",
      "1     Bob   30    Male\n",
      "2  Claire   27  Female\n",
      "\n",
      "Series:\n",
      "0    25\n",
      "1    30\n",
      "2    27\n",
      "Name: Age, dtype: int64\n"
     ]
    }
   ],
   "source": [
    "# For example:\n",
    "\n",
    "import pandas as pd\n",
    "\n",
    "data = {\n",
    "    'Name': ['Alice', 'Bob', 'Claire'],\n",
    "    'Age': [25, 30, 27],\n",
    "    'Gender': ['Female', 'Male', 'Female']\n",
    "}\n",
    "df = pd.DataFrame(data)\n",
    "\n",
    "ages = pd.Series([25, 30, 27], name='Age')\n",
    "\n",
    "print(\"DataFrame:\")\n",
    "print(df)\n",
    "print(\"\\nSeries:\")\n",
    "print(ages)"
   ]
  },
  {
   "cell_type": "code",
   "execution_count": null,
   "id": "0ffa2506-d993-4ccf-8916-6510f0d1e23c",
   "metadata": {},
   "outputs": [],
   "source": []
  },
  {
   "cell_type": "markdown",
   "id": "f2cbf86c-e9c5-4070-855f-4515f8d6f668",
   "metadata": {},
   "source": [
    "**Q5. What are some common functions you can use to manipulate data in a Pandas DataFrame? Can you give an example of when you might use one of these functions?**"
   ]
  },
  {
   "cell_type": "markdown",
   "id": "f18b4513-6641-4436-b76f-580c6beec777",
   "metadata": {},
   "source": [
    "Some commonly used functions:\n",
    "\n",
    "1. head():Returns the first n rows of the DataFrame. It is useful for quickly inspecting the data.\n",
    "\n",
    "df.head(5)  # Returns the first 5 rows of the DataFrame\n",
    "\n",
    "2. tail(): Returns the last n rows of the DataFrame. It is useful for quickly checking the end of the data.\n",
    "\n",
    "df.tail(3)  # Returns the last 3 rows of the DataFrame\n",
    "\n",
    "\n",
    "3. drop(): Removes specified rows or columns from the DataFrame.\n",
    "\n",
    "df.drop(columns=['Gender'])  # Drops the 'Gender' column from the DataFrame"
   ]
  },
  {
   "cell_type": "code",
   "execution_count": null,
   "id": "9b24d7cb-e757-4a2d-97c8-e8aea9ce1bf9",
   "metadata": {},
   "outputs": [],
   "source": []
  },
  {
   "cell_type": "markdown",
   "id": "72157f27-7c79-4d2c-8120-3f58005296f6",
   "metadata": {},
   "source": [
    "**Q6. Which of the following is mutable in nature Series, DataFrame, Panel?**"
   ]
  },
  {
   "cell_type": "markdown",
   "id": "2e78da6c-88e4-4948-afe6-ff0a695f5834",
   "metadata": {},
   "source": [
    "Among the options provided (Series, DataFrame, Panel), both Series and DataFrame are mutable in nature, while Panel is not."
   ]
  },
  {
   "cell_type": "code",
   "execution_count": null,
   "id": "999b1ed5-8a5e-4edc-a0aa-a38588403287",
   "metadata": {},
   "outputs": [],
   "source": []
  },
  {
   "cell_type": "markdown",
   "id": "9c679dca-c6f1-490e-8e2e-b770c6d88998",
   "metadata": {},
   "source": [
    "**Q7. Create a DataFrame using multiple Series. Explain with an example.**"
   ]
  },
  {
   "cell_type": "code",
   "execution_count": 6,
   "id": "87efdf70-664c-4be6-b558-d975cf5c2a7d",
   "metadata": {},
   "outputs": [
    {
     "name": "stdout",
     "output_type": "stream",
     "text": [
      "     Name  Age  Gender\n",
      "0   Alice   25  Female\n",
      "1     Bob   30    Male\n",
      "2  Claire   27  Female\n"
     ]
    }
   ],
   "source": [
    "import pandas as pd\n",
    "\n",
    "names = pd.Series(['Alice', 'Bob', 'Claire'])\n",
    "\n",
    "ages = pd.Series([25, 30, 27])\n",
    "\n",
    "genders = pd.Series(['Female', 'Male', 'Female'])\n",
    "\n",
    "df = pd.DataFrame({'Name': names, 'Age': ages, 'Gender': genders})\n",
    "\n",
    "print(df)"
   ]
  },
  {
   "cell_type": "code",
   "execution_count": null,
   "id": "92684743-55bc-44b5-b87c-1f07aa71f03b",
   "metadata": {},
   "outputs": [],
   "source": []
  },
  {
   "cell_type": "code",
   "execution_count": null,
   "id": "c9e755cb-e5f6-4e58-bf4c-a1a84d607e52",
   "metadata": {},
   "outputs": [],
   "source": []
  }
 ],
 "metadata": {
  "kernelspec": {
   "display_name": "Python 3 (ipykernel)",
   "language": "python",
   "name": "python3"
  },
  "language_info": {
   "codemirror_mode": {
    "name": "ipython",
    "version": 3
   },
   "file_extension": ".py",
   "mimetype": "text/x-python",
   "name": "python",
   "nbconvert_exporter": "python",
   "pygments_lexer": "ipython3",
   "version": "3.10.8"
  }
 },
 "nbformat": 4,
 "nbformat_minor": 5
}
